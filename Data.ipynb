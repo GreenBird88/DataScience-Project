{
  "nbformat": 4,
  "nbformat_minor": 0,
  "metadata": {
    "colab": {
      "provenance": [],
      "authorship_tag": "ABX9TyO2c8QA04M3d9Q170EJRPEC",
      "include_colab_link": true
    },
    "kernelspec": {
      "name": "python3",
      "display_name": "Python 3"
    },
    "language_info": {
      "name": "python"
    }
  },
  "cells": [
    {
      "cell_type": "markdown",
      "metadata": {
        "id": "view-in-github",
        "colab_type": "text"
      },
      "source": [
        "<a href=\"https://colab.research.google.com/github/GreenBird88/DataScience-Project/blob/main/Data.ipynb\" target=\"_parent\"><img src=\"https://colab.research.google.com/assets/colab-badge.svg\" alt=\"Open In Colab\"/></a>"
      ]
    },
    {
      "cell_type": "code",
      "execution_count": 46,
      "metadata": {
        "id": "lrJQYhskJwUc"
      },
      "outputs": [],
      "source": [
        "import pandas as pd\n",
        "from sklearn.model_selection import train_test_split\n",
        "from sklearn.linear_model import LinearRegression\n",
        "from sklearn.metrics import mean_absolute_error, mean_squared_error, r2_score\n",
        "\n"
      ]
    },
    {
      "cell_type": "code",
      "source": [
        "# Prepare Data\n",
        "data = pd.read_csv('graph.csv')\n",
        "data.head(40)"
      ],
      "metadata": {
        "id": "ePXIp551LSrS"
      },
      "execution_count": null,
      "outputs": []
    },
    {
      "cell_type": "code",
      "source": [
        "# declaring variable\n",
        "X = data['Road_Type']\n",
        "y = data['Casualty_Severity']"
      ],
      "metadata": {
        "id": "vYR1e09jLXnJ"
      },
      "execution_count": 48,
      "outputs": []
    },
    {
      "cell_type": "code",
      "source": [
        "# Split the data\n",
        "X_train, X_test, y_train, y_test = train_test_split(X, y, test_size=0.2, random_state=42)"
      ],
      "metadata": {
        "id": "MLI8FcBqLZ9B"
      },
      "execution_count": 49,
      "outputs": []
    },
    {
      "cell_type": "code",
      "source": [
        "# Convert the variables\n",
        "X_train = pd.get_dummies(X_train)\n",
        "X_test = pd.get_dummies(X_test)"
      ],
      "metadata": {
        "id": "_TBBg-xBLn86"
      },
      "execution_count": 50,
      "outputs": []
    },
    {
      "cell_type": "code",
      "source": [
        "#Train the Model\n",
        "model = LinearRegression()\n",
        "model.fit(X_train, y_train)"
      ],
      "metadata": {
        "id": "Egl2bgovLuBo"
      },
      "execution_count": null,
      "outputs": []
    },
    {
      "cell_type": "code",
      "source": [
        "# Evaluation\n",
        "y_pred = model.predict(X_test)"
      ],
      "metadata": {
        "id": "4PWtxbcgMHG4"
      },
      "execution_count": 52,
      "outputs": []
    },
    {
      "cell_type": "code",
      "source": [
        "import matplotlib.pyplot as plt\n",
        "\n",
        "variables = data.loc[:, ['Casualty_Severity', 'Road_Type']]\n",
        "variables.plot(x='Road_Type', y='Casualty_Severity', style='*')\n",
        "plt.xlabel('Casualty_Severity')\n",
        "plt.ylabel('Road_Type')\n",
        "plt.show()"
      ],
      "metadata": {
        "id": "b1qnyS8bLyqA"
      },
      "execution_count": null,
      "outputs": []
    },
    {
      "cell_type": "code",
      "source": [
        "import matplotlib.pyplot as plt\n",
        "from sklearn.linear_model import LinearRegression\n",
        "\n",
        "regressor = LinearRegression()\n",
        "X = data[['Road_Type']].values\n",
        "y = data['Casualty_Severity'].values\n",
        "regressor.fit(X, y)\n",
        "\n",
        "data.plot(x='Road_Type', y='Casualty_Severity', style='*')\n",
        "plt.plot(X, regressor.predict(X), color='red', label='Regression line')\n",
        "plt.xlabel('Road_Type')\n",
        "plt.ylabel('Casualty_Severity')\n",
        "plt.show()"
      ],
      "metadata": {
        "id": "L_xN6z3yaPL5"
      },
      "execution_count": null,
      "outputs": []
    },
    {
      "cell_type": "code",
      "source": [
        "mae = mean_absolute_error(y_test, y_pred)\n",
        "mse = mean_squared_error(y_test, y_pred)\n",
        "r2 = r2_score(y_test, y_pred)\n",
        "\n",
        "print(f\"Mean Absolute Error: {mae}\")\n",
        "print(f\"Mean Squared Error: {mse}\")\n",
        "print(f\"R-squared: {r2}\")"
      ],
      "metadata": {
        "id": "mJdwC64iL_iK"
      },
      "execution_count": null,
      "outputs": []
    },
    {
      "cell_type": "code",
      "source": [
        "# Results interpretation\n",
        "print(\"Coefficients:\")\n",
        "for feature, coef in zip(X_train.columns, model.coef_):\n",
        "    print(f\"{feature}: {coef}\")"
      ],
      "metadata": {
        "id": "gLTypkH-MiPc"
      },
      "execution_count": null,
      "outputs": []
    }
  ]
}
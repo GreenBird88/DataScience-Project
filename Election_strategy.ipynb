{
  "nbformat": 4,
  "nbformat_minor": 0,
  "metadata": {
    "colab": {
      "provenance": [],
      "authorship_tag": "ABX9TyNDmDffSPG2cRyjqoM/VhBX",
      "include_colab_link": true
    },
    "kernelspec": {
      "name": "python3",
      "display_name": "Python 3"
    },
    "language_info": {
      "name": "python"
    }
  },
  "cells": [
    {
      "cell_type": "markdown",
      "metadata": {
        "id": "view-in-github",
        "colab_type": "text"
      },
      "source": [
        "<a href=\"https://colab.research.google.com/github/GreenBird88/DataScience-Project/blob/main/Election_strategy.ipynb\" target=\"_parent\"><img src=\"https://colab.research.google.com/assets/colab-badge.svg\" alt=\"Open In Colab\"/></a>"
      ]
    },
    {
      "cell_type": "code",
      "execution_count": null,
      "metadata": {
        "id": "ZZ778idfnAqo"
      },
      "outputs": [],
      "source": [
        "import pandas as pd\n",
        "import matplotlib.pyplot as plt\n",
        "\n",
        "\n",
        "mydata = pd.read_csv('/content/voting.csv')\n",
        "# mydata = mydata.replace(-1,400)\n",
        "# mydata.head(20)\n",
        "mydata"
      ]
    },
    {
      "cell_type": "code",
      "source": [
        "duplicates_casualties = mydata[mydata['voters'].duplicated()]\n",
        "duplicates_engine = mydata[mydata['support_likelihood'].duplicated()]\n",
        "print(duplicates_casualties)\n",
        "print(duplicates_engine)"
      ],
      "metadata": {
        "id": "ZNemCBuXpVUZ"
      },
      "execution_count": null,
      "outputs": []
    },
    {
      "cell_type": "code",
      "source": [
        "missing = mydata[(mydata['voters'] == -1) | (mydata['support_likelihood'] == -1)]\n",
        "print(missing)"
      ],
      "metadata": {
        "colab": {
          "base_uri": "https://localhost:8080/"
        },
        "id": "2RPJCE1FppgJ",
        "outputId": "dc82693d-3009-4145-c8b4-0118a0fb31e4"
      },
      "execution_count": 15,
      "outputs": [
        {
          "output_type": "stream",
          "name": "stdout",
          "text": [
            "Empty DataFrame\n",
            "Columns: [voters, support_likelihood]\n",
            "Index: []\n"
          ]
        }
      ]
    },
    {
      "cell_type": "code",
      "source": [
        "variables = mydata.loc[:,['voters','support_likelihood']]\n",
        "# The figures are out of 100\n",
        "mydata.plot(x='voters',y='support_likelihood',style='*')\n",
        "plt.xlabel('voters')\n",
        "plt.ylabel('support_likehood')\n",
        "plt.show()"
      ],
      "metadata": {
        "colab": {
          "base_uri": "https://localhost:8080/",
          "height": 449
        },
        "id": "JxkmUex2p2lB",
        "outputId": "cb8d400d-74b2-457a-ec4b-f40715420343"
      },
      "execution_count": 21,
      "outputs": [
        {
          "output_type": "display_data",
          "data": {
            "text/plain": [
              "<Figure size 640x480 with 1 Axes>"
            ],
            "image/png": "[encoded data removed]"
          },
          "metadata": {}
        }
      ]
    },
    {
      "cell_type": "code",
      "source": [
        "summary = mydata.describe()\n",
        "print(mydata.info())\n",
        "print(summary)"
      ],
      "metadata": {
        "colab": {
          "base_uri": "https://localhost:8080/"
        },
        "id": "tj-81kmwy-li",
        "outputId": "83791695-ff5e-46a8-a050-df7888f6953b"
      },
      "execution_count": 22,
      "outputs": [
        {
          "output_type": "stream",
          "name": "stdout",
          "text": [
            "<class 'pandas.core.frame.DataFrame'>\n",
            "RangeIndex: 16598 entries, 0 to 16597\n",
            "Data columns (total 2 columns):\n",
            " #   Column              Non-Null Count  Dtype  \n",
            "---  ------              --------------  -----  \n",
            " 0   voters              16598 non-null  int64  \n",
            " 1   support_likelihood  16598 non-null  float64\n",
            "dtypes: float64(1), int64(1)\n",
            "memory usage: 259.5 KB\n",
            "None\n",
            "             voters  support_likelihood\n",
            "count  16598.000000        16598.000000\n",
            "mean    8300.605254            0.537441\n",
            "std     4791.853933            1.555028\n",
            "min        1.000000            0.010000\n",
            "25%     4151.250000            0.060000\n",
            "50%     8300.500000            0.170000\n",
            "75%    12449.750000            0.470000\n",
            "max    16600.000000           82.740000\n"
          ]
        }
      ]
    }
  ]
}